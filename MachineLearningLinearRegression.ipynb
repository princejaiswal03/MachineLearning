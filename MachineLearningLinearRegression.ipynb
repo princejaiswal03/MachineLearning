{
 "cells": [
  {
   "cell_type": "code",
   "execution_count": 1,
   "metadata": {},
   "outputs": [],
   "source": [
    "import numpy as np\n",
    "import matplotlib.pyplot as plt"
   ]
  },
  {
   "cell_type": "code",
   "execution_count": 2,
   "metadata": {},
   "outputs": [],
   "source": [
    "def loadData(fileName):\n",
    "    #load whole data from file\n",
    "    data = np.loadtxt(fileName, delimiter = ',', skiprows = 1)\n",
    "    \n",
    "    #convert data into matrix\n",
    "    data = np.matrix(data)\n",
    "    \n",
    "    #fetching features vectors\n",
    "    X = data[:,:-1]         #all rows and column except last column\n",
    "\n",
    "    #fetching target vectors\n",
    "    y = data[:,-1]         # all rows and last column\n",
    "    \n",
    "    return X,y\n",
    "    "
   ]
  },
  {
   "cell_type": "code",
   "execution_count": 3,
   "metadata": {},
   "outputs": [],
   "source": [
    "def featureNormalization(X):\n",
    "    size = np.shape(X)    # size = (46,2)\n",
    "    size = size[1]\n",
    "    mean = np.zeros(size)   #[0 0]\n",
    "    sigma = np.zeros(size)  #[0 0]\n",
    "    for i in range(size):\n",
    "        mean[i] = np.mean(X[:,i], axis = 0)    #mean of every features vector , axis 0 means column-wise\n",
    "        sigma[i] = np.std(X[:,i], axis = 0)     # standard deviation of every vector\n",
    "        X[:,i] = (X[:,i] - mean[i])/sigma[i]\n",
    "    return mean,sigma,X\n",
    "    "
   ]
  },
  {
   "cell_type": "code",
   "execution_count": 4,
   "metadata": {},
   "outputs": [],
   "source": [
    "def addInterceptTermToInputFeatures(X,m):\n",
    "    interceptTerm = np.ones(shape = m)[...,None]\n",
    "    X = np.concatenate((interceptTerm,X),axis = 1)    #axis 1 means\n",
    "    return X"
   ]
  },
  {
   "cell_type": "code",
   "execution_count": 5,
   "metadata": {},
   "outputs": [],
   "source": [
    "def computeCostFunction(X,y,theta):\n",
    "    m = np.size(y)\n",
    "    hypo = np.matmul(X , theta)\n",
    "    tmp = np.square( np.subtract(hypo , y) )\n",
    "    tmp = np.sum(tmp)\n",
    "    J = tmp / (2*m)\n",
    "    return J"
   ]
  },
  {
   "cell_type": "code",
   "execution_count": 6,
   "metadata": {},
   "outputs": [],
   "source": [
    "def gradientDescentFunction(X,y,theta,num_iters,alpha):\n",
    "    m = np.size(y)\n",
    "    J_history = np.zeros(num_iters)[...,None]\n",
    "    for i in range(num_iters):\n",
    "        tmp = np.subtract(np.matmul(X , theta) , y)\n",
    "        tmp = np.matmul(tmp.transpose() , X)\n",
    "        tmp = tmp.transpose() * (alpha/m)\n",
    "        theta = np.subtract(theta , tmp)\n",
    "        \n",
    "        J_history[i] = computeCostFunction(X,y,theta)\n",
    "    return theta,J_history\n",
    "    "
   ]
  },
  {
   "cell_type": "code",
   "execution_count": 12,
   "metadata": {},
   "outputs": [],
   "source": [
    "def plotCostVsNumIter(num_iters, cost, xLabel = 'X', yLabel = 'Y', markerColor = 'b', markerType = '-',lineWidth = 5, markerSize = 5):\n",
    "    size = np.size(cost)\n",
    "    x = [i for i in range(size)]\n",
    "    plt.plot(x, cost)\n",
    "    "
   ]
  },
  {
   "cell_type": "code",
   "execution_count": 13,
   "metadata": {},
   "outputs": [],
   "source": [
    "def plotLinearRegressionFittingCurve(x, y, markerType, markerColor, markerSize):\n",
    "    pass"
   ]
  },
  {
   "cell_type": "code",
   "execution_count": 14,
   "metadata": {},
   "outputs": [
    {
     "name": "stdout",
     "output_type": "stream",
     "text": [
      "Cost predicted for 1650 sq feet,3 bedrooms = $ 288275.834972\n"
     ]
    },
    {
     "data": {
      "image/png": "[encoded data removed]",
      "text/plain": [
       "<Figure size 432x288 with 1 Axes>"
      ]
     },
     "metadata": {
      "needs_background": "light"
     },
     "output_type": "display_data"
    }
   ],
   "source": [
    "X,y = loadData(fileName = '/home/raj/Desktop/Machine Learning/machine-learning-ex1/ex1/ex1data2.txt')\n",
    "m = np.size(y)\n",
    "mean,sigma,X = featureNormalization(X)\n",
    "\n",
    "X = addInterceptTermToInputFeatures(X,m)\n",
    "\n",
    "#initialize theta  as parameter vector\n",
    "theta = np.zeros(shape = X.shape[1])[...,None]\n",
    "#learning rate\n",
    "alpha = 0.01\n",
    "\n",
    "#number of iterations\n",
    "num_iters = 400\n",
    "theta,J_history = gradientDescentFunction(X,y,theta,num_iters,alpha)\n",
    "\n",
    "plotCostVsNumIter(num_iters = num_iters, cost = J_history, xLabel = 'Number of Iterations', yLabel = 'Cost J', markerColor = 'b',markerType = '-', markerSize = 5)\n",
    "\n",
    "# cost for 1650 sq feet and 3 bedroom\n",
    "x = [1 , (1650 - mean[0])/sigma[0], (3-mean[1])/sigma[1]]\n",
    "pricePredicted = x*theta\n",
    "print('Cost predicted for 1650 sq feet,3 bedrooms = $ %f'%pricePredicted)\n"
   ]
  },
  {
   "cell_type": "code",
   "execution_count": null,
   "metadata": {},
   "outputs": [],
   "source": []
  },
  {
   "cell_type": "code",
   "execution_count": null,
   "metadata": {},
   "outputs": [],
   "source": []
  }
 ],
 "metadata": {
  "kernelspec": {
   "display_name": "Python 3",
   "language": "python",
   "name": "python3"
  },
  "language_info": {
   "codemirror_mode": {
    "name": "ipython",
    "version": 3
   },
   "file_extension": ".py",
   "mimetype": "text/x-python",
   "name": "python",
   "nbconvert_exporter": "python",
   "pygments_lexer": "ipython3",
   "version": "3.7.0"
  }
 },
 "nbformat": 4,
 "nbformat_minor": 2
}
