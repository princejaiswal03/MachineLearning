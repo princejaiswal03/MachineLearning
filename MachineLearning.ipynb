{
 "cells": [
  {
   "cell_type": "code",
   "execution_count": 2,
   "metadata": {},
   "outputs": [],
   "source": [
    "import numpy"
   ]
  },
  {
   "cell_type": "code",
   "execution_count": 5,
   "metadata": {},
   "outputs": [],
   "source": [
    "matA = [[1,2,3],[4,5,6],[7,8,9]]\n",
    "matB = [[11,12,13],[14,15,16],[17,18,19]]"
   ]
  },
  {
   "cell_type": "code",
   "execution_count": 12,
   "metadata": {},
   "outputs": [
    {
     "name": "stdout",
     "output_type": "stream",
     "text": [
      "A =  [[1, 2, 3], [4, 5, 6], [7, 8, 9]]\n",
      "B =  [[11, 12, 13], [14, 15, 16], [17, 18, 19]]\n",
      "A + B =  [[12, 14, 16], [18, 20, 22], [24, 26, 28]]\n",
      "A - B =  [[-10, -10, -10], [-10, -10, -10], [-10, -10, -10]]\n"
     ]
    }
   ],
   "source": [
    "print(\"A = \",matA)\n",
    "print(\"B = \",matB)\n",
    "add = [[ matA[i][j] + matB[i][j] for j in range(len(matA[0]))] for i in range(len(matA))]\n",
    "print(\"A + B = \",add)\n",
    "sub = [[ matA[i][j] - matB[i][j] for j in range(len(matA[0]))] for i in range(len(matA))]\n",
    "print(\"A - B = \",sub)"
   ]
  },
  {
   "cell_type": "code",
   "execution_count": 15,
   "metadata": {
    "scrolled": true
   },
   "outputs": [
    {
     "name": "stdout",
     "output_type": "stream",
     "text": [
      "[[1, 4, 7], [2, 5, 8], [3, 6, 9]]\n"
     ]
    }
   ],
   "source": [
    "transposeA = [ [ matA[j][i] for j in range(len(matA[0]))] for i in range(len(matA))]\n",
    "print(transposeA)"
   ]
  },
  {
   "cell_type": "code",
   "execution_count": 17,
   "metadata": {},
   "outputs": [
    {
     "name": "stdout",
     "output_type": "stream",
     "text": [
      "[[11, 14, 17], [12, 15, 18], [13, 16, 19]]\n"
     ]
    }
   ],
   "source": [
    "transposeB = [ [ matB[j][i] for j in range(len(matB[0]))] for i in range(len(matB))]\n",
    "print(transposeB)"
   ]
  },
  {
   "cell_type": "code",
   "execution_count": null,
   "metadata": {},
   "outputs": [],
   "source": []
  }
 ],
 "metadata": {
  "kernelspec": {
   "display_name": "Python 3",
   "language": "python",
   "name": "python3"
  },
  "language_info": {
   "codemirror_mode": {
    "name": "ipython",
    "version": 3
   },
   "file_extension": ".py",
   "mimetype": "text/x-python",
   "name": "python",
   "nbconvert_exporter": "python",
   "pygments_lexer": "ipython3",
   "version": "3.7.0"
  }
 },
 "nbformat": 4,
 "nbformat_minor": 2
}
